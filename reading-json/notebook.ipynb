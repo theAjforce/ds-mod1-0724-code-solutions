{
 "cells": [
  {
   "cell_type": "code",
   "execution_count": 1,
   "metadata": {},
   "outputs": [],
   "source": [
    "import json"
   ]
  },
  {
   "cell_type": "code",
   "execution_count": 5,
   "metadata": {},
   "outputs": [
    {
     "data": {
      "text/plain": [
       "[{'id': 1, 'name': 'Zia Khan', 'sports': ['Ice Hockey', 'Cricket']},\n",
       " {'id': 2, 'name': 'Dennis T', 'sports': ['Football', 'Basketball']}]"
      ]
     },
     "execution_count": 5,
     "metadata": {},
     "output_type": "execute_result"
    }
   ],
   "source": [
    "with open(\"json_file.txt\") as f:\n",
    "    data = json.load(f)\n",
    "data"
   ]
  },
  {
   "cell_type": "code",
   "execution_count": 8,
   "metadata": {},
   "outputs": [
    {
     "name": "stdout",
     "output_type": "stream",
     "text": [
      "id: 1\n",
      "name: Zia Khan\n",
      "sports: ['Ice Hockey', 'Cricket']\n",
      "=================\n",
      "id: 2\n",
      "name: Dennis T\n",
      "sports: ['Football', 'Basketball']\n",
      "=================\n"
     ]
    }
   ],
   "source": [
    "for i in range(len(data)):\n",
    "    for k,v in data[i].items():\n",
    "        print(f\"{k}: {v}\")\n",
    "    print(17*\"=\")"
   ]
  },
  {
   "cell_type": "code",
   "execution_count": 9,
   "metadata": {},
   "outputs": [
    {
     "data": {
      "text/plain": [
       "{'meta': {'build_time': '2021-05-10T23:47:33.898Z',\n",
       "  'license': 'CC-BY-4.0',\n",
       "  'version': '2.0-beta',\n",
       "  'field_definitions': [{'name': 'Total test results',\n",
       "    'field': 'tests.pcr.total',\n",
       "    'deprecated': False,\n",
       "    'prior_names': ['totalTestResults']},\n",
       "   {'name': 'Hospital discharges', 'deprecated': False, 'prior_names': []},\n",
       "   {'name': 'Confirmed Cases',\n",
       "    'field': 'cases.confirmed',\n",
       "    'deprecated': False,\n",
       "    'prior_names': ['positiveCasesViral']},\n",
       "   {'name': 'Cumulative hospitalized/Ever hospitalized',\n",
       "    'field': 'outcomes.hospitalized.total',\n",
       "    'deprecated': False,\n",
       "    'prior_names': ['hospitalizedCumulative']},\n",
       "   {'name': 'Cumulative in ICU/Ever in ICU',\n",
       "    'field': 'outcomes.hospitalized.in_icu',\n",
       "    'deprecated': False,\n",
       "    'prior_names': ['inIcuCumulative']},\n",
       "   {'name': 'Cumulative on ventilator/Ever on ventilator',\n",
       "    'field': 'hospitalization.on_ventilator.cumulative',\n",
       "    'deprecated': False,\n",
       "    'prior_names': ['onVentilatorCumulative']},\n",
       "   {'name': 'Currently hospitalized/Now hospitalized',\n",
       "    'field': 'hospitalization.hospitalized.currently',\n",
       "    'deprecated': False,\n",
       "    'prior_names': ['hospitalizedCurrently']},\n",
       "   {'name': 'Currently in ICU/Now in ICU',\n",
       "    'field': 'hospitalization.in_icu.currently',\n",
       "    'deprecated': False,\n",
       "    'prior_names': ['inIcuCurrently']},\n",
       "   {'name': 'Currently on ventilator/Now on ventilator',\n",
       "    'field': 'hospitalization.on_ventilator.currently',\n",
       "    'deprecated': False,\n",
       "    'prior_names': ['onVentilatorCurrently']},\n",
       "   {'name': 'Deaths (probable)',\n",
       "    'field': 'outcomes.death.probable',\n",
       "    'deprecated': False,\n",
       "    'prior_names': ['deathProbable']},\n",
       "   {'name': 'Deaths (confirmed)',\n",
       "    'field': 'outcomes.death.confirmed',\n",
       "    'deprecated': False,\n",
       "    'prior_names': ['deathConfirmed']},\n",
       "   {'name': 'Deaths (confirmed and probable)',\n",
       "    'field': 'outcomes.death.cumulative',\n",
       "    'deprecated': False,\n",
       "    'prior_names': ['death']},\n",
       "   {'name': 'Probable Cases', 'deprecated': False, 'prior_names': []},\n",
       "   {'name': 'Last Update (ET)',\n",
       "    'field': 'meta.updated',\n",
       "    'deprecated': False,\n",
       "    'prior_names': ['lastUpdateEt', 'lastUpdateTime', 'checkTimeEt']},\n",
       "   {'name': 'New deaths',\n",
       "    'field': 'outcomes.death.calculated.change_from_prior_day',\n",
       "    'deprecated': False,\n",
       "    'prior_names': ['deathIncrease']},\n",
       "   {'name': 'Date',\n",
       "    'field': 'date',\n",
       "    'deprecated': False,\n",
       "    'prior_names': ['dateModified']}]},\n",
       " 'data': {'date': '2021-01-02',\n",
       "  'states': 56,\n",
       "  'cases': {'total': {'value': 20327598,\n",
       "    'calculated': {'population_percent': 6.1451,\n",
       "     'change_from_prior_day': 280318,\n",
       "     'seven_day_change_percent': 7.6}}},\n",
       "  'testing': {'total': {'value': 257729806,\n",
       "    'calculated': {'population_percent': 77.9127,\n",
       "     'change_from_prior_day': 1934350,\n",
       "     'seven_day_change_percent': 4.4}}},\n",
       "  'outcomes': {'hospitalized': {'currently': {'value': 123614,\n",
       "     'calculated': {'population_percent': 0.0374,\n",
       "      'change_from_prior_day': -1433,\n",
       "      'seven_day_change_percent': 5.3,\n",
       "      'seven_day_average': 123416}},\n",
       "    'in_icu': {'currently': {'value': 23133,\n",
       "      'calculated': {'population_percent': 0.007,\n",
       "       'change_from_prior_day': -122,\n",
       "       'seven_day_change_percent': 3.4,\n",
       "       'seven_day_average': 22917}}},\n",
       "    'on_ventilator': {'currently': {'value': 7910,\n",
       "      'calculated': {'population_percent': 0.0024,\n",
       "       'change_from_prior_day': -80,\n",
       "       'seven_day_change_percent': 1.3,\n",
       "       'seven_day_average': 7935}}}},\n",
       "   'death': {'total': {'value': 341800,\n",
       "     'calculated': {'population_percent': 0.1033,\n",
       "      'change_from_prior_day': 2406,\n",
       "      'seven_day_change_percent': 5.7,\n",
       "      'seven_day_average': 333178}}}}}}"
      ]
     },
     "execution_count": 9,
     "metadata": {},
     "output_type": "execute_result"
    }
   ],
   "source": [
    "with open(\"daily_covid_cases.json\") as c:\n",
    "    covid = json.load(c)\n",
    "covid"
   ]
  },
  {
   "cell_type": "code",
   "execution_count": 21,
   "metadata": {},
   "outputs": [
    {
     "ename": "TypeError",
     "evalue": "'dict' object is not callable",
     "output_type": "error",
     "traceback": [
      "\u001b[0;31m---------------------------------------------------------------------------\u001b[0m",
      "\u001b[0;31mTypeError\u001b[0m                                 Traceback (most recent call last)",
      "Cell \u001b[0;32mIn[21], line 4\u001b[0m\n\u001b[1;32m      2\u001b[0m \u001b[38;5;28;01mfor\u001b[39;00m k,v \u001b[38;5;129;01min\u001b[39;00m covid\u001b[38;5;241m.\u001b[39mitems():\n\u001b[1;32m      3\u001b[0m     \u001b[38;5;28;01mif\u001b[39;00m \u001b[38;5;28misinstance\u001b[39m(v, \u001b[38;5;28mdict\u001b[39m):\n\u001b[0;32m----> 4\u001b[0m         result[k] \u001b[38;5;241m=\u001b[39m \u001b[43mcovid\u001b[49m\u001b[43m(\u001b[49m\u001b[43mv\u001b[49m\u001b[43m)\u001b[49m\n\u001b[1;32m      5\u001b[0m     \u001b[38;5;28;01melse\u001b[39;00m:\n\u001b[1;32m      6\u001b[0m         result[k] \u001b[38;5;241m=\u001b[39m v\n",
      "\u001b[0;31mTypeError\u001b[0m: 'dict' object is not callable"
     ]
    }
   ],
   "source": [
    "result = {}\n",
    "for k,v in covid.items():\n",
    "    if isinstance(v, dict):\n",
    "        result[k] = covid(v)\n",
    "    else:\n",
    "        result[k] = v\n"
   ]
  }
 ],
 "metadata": {
  "kernelspec": {
   "display_name": "Python 3",
   "language": "python",
   "name": "python3"
  },
  "language_info": {
   "codemirror_mode": {
    "name": "ipython",
    "version": 3
   },
   "file_extension": ".py",
   "mimetype": "text/x-python",
   "name": "python",
   "nbconvert_exporter": "python",
   "pygments_lexer": "ipython3",
   "version": "3.12.4"
  }
 },
 "nbformat": 4,
 "nbformat_minor": 2
}
