{
 "cells": [
  {
   "cell_type": "code",
   "execution_count": 6,
   "metadata": {},
   "outputs": [],
   "source": [
    "import json"
   ]
  },
  {
   "cell_type": "code",
   "execution_count": 5,
   "metadata": {},
   "outputs": [
    {
     "data": {
      "text/plain": [
       "[{'id': 1, 'name': 'Zia Khan', 'sports': ['Ice Hockey', 'Cricket']},\n",
       " {'id': 2, 'name': 'Dennis T', 'sports': ['Football', 'Basketball']}]"
      ]
     },
     "execution_count": 5,
     "metadata": {},
     "output_type": "execute_result"
    }
   ],
   "source": [
    "with open(\"json_file.txt\") as f:\n",
    "    data = json.load(f)\n",
    "data"
   ]
  },
  {
   "cell_type": "code",
   "execution_count": 8,
   "metadata": {},
   "outputs": [
    {
     "name": "stdout",
     "output_type": "stream",
     "text": [
      "id: 1\n",
      "name: Zia Khan\n",
      "sports: ['Ice Hockey', 'Cricket']\n",
      "=================\n",
      "id: 2\n",
      "name: Dennis T\n",
      "sports: ['Football', 'Basketball']\n",
      "=================\n"
     ]
    }
   ],
   "source": [
    "for i in range(len(data)):\n",
    "    for k,v in data[i].items():\n",
    "        print(f\"{k}: {v}\")\n",
    "    print(17*\"=\")"
   ]
  },
  {
   "cell_type": "code",
   "execution_count": 7,
   "metadata": {},
   "outputs": [
    {
     "data": {
      "text/plain": [
       "{'meta': {'build_time': '2021-05-10T23:47:33.898Z',\n",
       "  'license': 'CC-BY-4.0',\n",
       "  'version': '2.0-beta',\n",
       "  'field_definitions': [{'name': 'Total test results',\n",
       "    'field': 'tests.pcr.total',\n",
       "    'deprecated': False,\n",
       "    'prior_names': ['totalTestResults']},\n",
       "   {'name': 'Hospital discharges', 'deprecated': False, 'prior_names': []},\n",
       "   {'name': 'Confirmed Cases',\n",
       "    'field': 'cases.confirmed',\n",
       "    'deprecated': False,\n",
       "    'prior_names': ['positiveCasesViral']},\n",
       "   {'name': 'Cumulative hospitalized/Ever hospitalized',\n",
       "    'field': 'outcomes.hospitalized.total',\n",
       "    'deprecated': False,\n",
       "    'prior_names': ['hospitalizedCumulative']},\n",
       "   {'name': 'Cumulative in ICU/Ever in ICU',\n",
       "    'field': 'outcomes.hospitalized.in_icu',\n",
       "    'deprecated': False,\n",
       "    'prior_names': ['inIcuCumulative']},\n",
       "   {'name': 'Cumulative on ventilator/Ever on ventilator',\n",
       "    'field': 'hospitalization.on_ventilator.cumulative',\n",
       "    'deprecated': False,\n",
       "    'prior_names': ['onVentilatorCumulative']},\n",
       "   {'name': 'Currently hospitalized/Now hospitalized',\n",
       "    'field': 'hospitalization.hospitalized.currently',\n",
       "    'deprecated': False,\n",
       "    'prior_names': ['hospitalizedCurrently']},\n",
       "   {'name': 'Currently in ICU/Now in ICU',\n",
       "    'field': 'hospitalization.in_icu.currently',\n",
       "    'deprecated': False,\n",
       "    'prior_names': ['inIcuCurrently']},\n",
       "   {'name': 'Currently on ventilator/Now on ventilator',\n",
       "    'field': 'hospitalization.on_ventilator.currently',\n",
       "    'deprecated': False,\n",
       "    'prior_names': ['onVentilatorCurrently']},\n",
       "   {'name': 'Deaths (probable)',\n",
       "    'field': 'outcomes.death.probable',\n",
       "    'deprecated': False,\n",
       "    'prior_names': ['deathProbable']},\n",
       "   {'name': 'Deaths (confirmed)',\n",
       "    'field': 'outcomes.death.confirmed',\n",
       "    'deprecated': False,\n",
       "    'prior_names': ['deathConfirmed']},\n",
       "   {'name': 'Deaths (confirmed and probable)',\n",
       "    'field': 'outcomes.death.cumulative',\n",
       "    'deprecated': False,\n",
       "    'prior_names': ['death']},\n",
       "   {'name': 'Probable Cases', 'deprecated': False, 'prior_names': []},\n",
       "   {'name': 'Last Update (ET)',\n",
       "    'field': 'meta.updated',\n",
       "    'deprecated': False,\n",
       "    'prior_names': ['lastUpdateEt', 'lastUpdateTime', 'checkTimeEt']},\n",
       "   {'name': 'New deaths',\n",
       "    'field': 'outcomes.death.calculated.change_from_prior_day',\n",
       "    'deprecated': False,\n",
       "    'prior_names': ['deathIncrease']},\n",
       "   {'name': 'Date',\n",
       "    'field': 'date',\n",
       "    'deprecated': False,\n",
       "    'prior_names': ['dateModified']}]},\n",
       " 'data': {'date': '2021-01-02',\n",
       "  'states': 56,\n",
       "  'cases': {'total': {'value': 20327598,\n",
       "    'calculated': {'population_percent': 6.1451,\n",
       "     'change_from_prior_day': 280318,\n",
       "     'seven_day_change_percent': 7.6}}},\n",
       "  'testing': {'total': {'value': 257729806,\n",
       "    'calculated': {'population_percent': 77.9127,\n",
       "     'change_from_prior_day': 1934350,\n",
       "     'seven_day_change_percent': 4.4}}},\n",
       "  'outcomes': {'hospitalized': {'currently': {'value': 123614,\n",
       "     'calculated': {'population_percent': 0.0374,\n",
       "      'change_from_prior_day': -1433,\n",
       "      'seven_day_change_percent': 5.3,\n",
       "      'seven_day_average': 123416}},\n",
       "    'in_icu': {'currently': {'value': 23133,\n",
       "      'calculated': {'population_percent': 0.007,\n",
       "       'change_from_prior_day': -122,\n",
       "       'seven_day_change_percent': 3.4,\n",
       "       'seven_day_average': 22917}}},\n",
       "    'on_ventilator': {'currently': {'value': 7910,\n",
       "      'calculated': {'population_percent': 0.0024,\n",
       "       'change_from_prior_day': -80,\n",
       "       'seven_day_change_percent': 1.3,\n",
       "       'seven_day_average': 7935}}}},\n",
       "   'death': {'total': {'value': 341800,\n",
       "     'calculated': {'population_percent': 0.1033,\n",
       "      'change_from_prior_day': 2406,\n",
       "      'seven_day_change_percent': 5.7,\n",
       "      'seven_day_average': 333178}}}}}}"
      ]
     },
     "execution_count": 7,
     "metadata": {},
     "output_type": "execute_result"
    }
   ],
   "source": [
    "with open(\"daily_covid_cases.json\") as c:\n",
    "    covid = json.load(c)\n",
    "covid"
   ]
  },
  {
   "cell_type": "code",
   "execution_count": 14,
   "metadata": {},
   "outputs": [
    {
     "name": "stdout",
     "output_type": "stream",
     "text": [
      "meta\n",
      "build_time:2021-05-10T23:47:33.898Z\n",
      "license:CC-BY-4.0\n",
      "version:2.0-beta\n",
      "field_definitions:[{'name': 'Total test results', 'field': 'tests.pcr.total', 'deprecated': False, 'prior_names': ['totalTestResults']}, {'name': 'Hospital discharges', 'deprecated': False, 'prior_names': []}, {'name': 'Confirmed Cases', 'field': 'cases.confirmed', 'deprecated': False, 'prior_names': ['positiveCasesViral']}, {'name': 'Cumulative hospitalized/Ever hospitalized', 'field': 'outcomes.hospitalized.total', 'deprecated': False, 'prior_names': ['hospitalizedCumulative']}, {'name': 'Cumulative in ICU/Ever in ICU', 'field': 'outcomes.hospitalized.in_icu', 'deprecated': False, 'prior_names': ['inIcuCumulative']}, {'name': 'Cumulative on ventilator/Ever on ventilator', 'field': 'hospitalization.on_ventilator.cumulative', 'deprecated': False, 'prior_names': ['onVentilatorCumulative']}, {'name': 'Currently hospitalized/Now hospitalized', 'field': 'hospitalization.hospitalized.currently', 'deprecated': False, 'prior_names': ['hospitalizedCurrently']}, {'name': 'Currently in ICU/Now in ICU', 'field': 'hospitalization.in_icu.currently', 'deprecated': False, 'prior_names': ['inIcuCurrently']}, {'name': 'Currently on ventilator/Now on ventilator', 'field': 'hospitalization.on_ventilator.currently', 'deprecated': False, 'prior_names': ['onVentilatorCurrently']}, {'name': 'Deaths (probable)', 'field': 'outcomes.death.probable', 'deprecated': False, 'prior_names': ['deathProbable']}, {'name': 'Deaths (confirmed)', 'field': 'outcomes.death.confirmed', 'deprecated': False, 'prior_names': ['deathConfirmed']}, {'name': 'Deaths (confirmed and probable)', 'field': 'outcomes.death.cumulative', 'deprecated': False, 'prior_names': ['death']}, {'name': 'Probable Cases', 'deprecated': False, 'prior_names': []}, {'name': 'Last Update (ET)', 'field': 'meta.updated', 'deprecated': False, 'prior_names': ['lastUpdateEt', 'lastUpdateTime', 'checkTimeEt']}, {'name': 'New deaths', 'field': 'outcomes.death.calculated.change_from_prior_day', 'deprecated': False, 'prior_names': ['deathIncrease']}, {'name': 'Date', 'field': 'date', 'deprecated': False, 'prior_names': ['dateModified']}]\n",
      "\n",
      "\n",
      "data\n",
      "date:2021-01-02\n",
      "states:56\n",
      "cases:{'total': {'value': 20327598, 'calculated': {'population_percent': 6.1451, 'change_from_prior_day': 280318, 'seven_day_change_percent': 7.6}}}\n",
      "testing:{'total': {'value': 257729806, 'calculated': {'population_percent': 77.9127, 'change_from_prior_day': 1934350, 'seven_day_change_percent': 4.4}}}\n",
      "outcomes:{'hospitalized': {'currently': {'value': 123614, 'calculated': {'population_percent': 0.0374, 'change_from_prior_day': -1433, 'seven_day_change_percent': 5.3, 'seven_day_average': 123416}}, 'in_icu': {'currently': {'value': 23133, 'calculated': {'population_percent': 0.007, 'change_from_prior_day': -122, 'seven_day_change_percent': 3.4, 'seven_day_average': 22917}}}, 'on_ventilator': {'currently': {'value': 7910, 'calculated': {'population_percent': 0.0024, 'change_from_prior_day': -80, 'seven_day_change_percent': 1.3, 'seven_day_average': 7935}}}}, 'death': {'total': {'value': 341800, 'calculated': {'population_percent': 0.1033, 'change_from_prior_day': 2406, 'seven_day_change_percent': 5.7, 'seven_day_average': 333178}}}}\n",
      "\n",
      "\n"
     ]
    }
   ],
   "source": [
    "for k,v in covid.items():\n",
    "    print(k)\n",
    "    for k,i in v.items():\n",
    "        print(f'{k}:{i}')\n",
    "    print(\"\\n\")\n",
    "    "
   ]
  }
 ],
 "metadata": {
  "kernelspec": {
   "display_name": "Python 3",
   "language": "python",
   "name": "python3"
  },
  "language_info": {
   "codemirror_mode": {
    "name": "ipython",
    "version": 3
   },
   "file_extension": ".py",
   "mimetype": "text/x-python",
   "name": "python",
   "nbconvert_exporter": "python",
   "pygments_lexer": "ipython3",
   "version": "3.12.4"
  }
 },
 "nbformat": 4,
 "nbformat_minor": 2
}
