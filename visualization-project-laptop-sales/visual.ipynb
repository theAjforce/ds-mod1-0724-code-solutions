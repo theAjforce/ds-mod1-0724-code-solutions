{
 "cells": [
  {
   "cell_type": "code",
   "execution_count": 1,
   "metadata": {},
   "outputs": [],
   "source": [
    "import pandas as pd\n",
    "import numpy as np\n",
    "import matplotlib.pyplot as plt"
   ]
  },
  {
   "cell_type": "code",
   "execution_count": null,
   "metadata": {},
   "outputs": [],
   "source": [
    "data = pd.read_csv('Sales_data.txt') "
   ]
  },
  {
   "cell_type": "code",
   "execution_count": null,
   "metadata": {},
   "outputs": [],
   "source": [
    "gender_total_profit = data.groupby('Contact Sex')['Profit'].sum()\n",
    "plt.bar(gender_total_profit.index, gender_total_profit.values)\n",
    "plt.xlabel('Contact Sex')\n",
    "plt.ylabel('Profit')"
   ]
  },
  {
   "cell_type": "markdown",
   "metadata": {},
   "source": [
    "Target market appears to be male."
   ]
  },
  {
   "cell_type": "code",
   "execution_count": null,
   "metadata": {},
   "outputs": [],
   "source": [
    "gender_cash_constrained = data.groupby('Contact Sex')['Sale Price'].sum()\n",
    "plt.bar(gender_cash_constrained.index, gender_cash_constrained.values)\n",
    "plt.xlabel('Contact Sex')\n",
    "plt.ylabel('Sale Price')  "
   ]
  },
  {
   "cell_type": "markdown",
   "metadata": {},
   "source": [
    "When cash constrained, the target gender should be female."
   ]
  },
  {
   "cell_type": "code",
   "execution_count": null,
   "metadata": {},
   "outputs": [],
   "source": [
    "age_profit = data.groupby('Contact Age')['Profit'].sum()\n",
    "plt.bar(age_profit.index, age_profit.values)\n",
    "plt.xlabel('Contact Age')\n",
    "plt.ylabel('Profit')"
   ]
  },
  {
   "cell_type": "markdown",
   "metadata": {},
   "source": [
    "The target age to maximize profit is between 45 and 50 years old."
   ]
  },
  {
   "cell_type": "code",
   "execution_count": null,
   "metadata": {},
   "outputs": [],
   "source": [
    "product_profit = data.groupby('Product ID')['Profit'].sum()\n",
    "plt.bar(product_profit.index, product_profit.values)\n",
    "plt.xlabel('Product ID')\n",
    "plt.ylabel('Profit')"
   ]
  },
  {
   "cell_type": "markdown",
   "metadata": {},
   "source": [
    "The GA401IV should be featured as it has created the most profit."
   ]
  },
  {
   "cell_type": "code",
   "execution_count": null,
   "metadata": {},
   "outputs": [],
   "source": [
    "lead_source_profit = data.groupby('Lead Source')['Profit'].sum()\n",
    "plt.bar(lead_source_profit.index, lead_source_profit.values)\n",
    "plt.xlabel('Lead Source')\n",
    "plt.ylabel('Profit')"
   ]
  },
  {
   "cell_type": "markdown",
   "metadata": {},
   "source": [
    "Internet is the best lead source in the past."
   ]
  },
  {
   "cell_type": "code",
   "execution_count": null,
   "metadata": {},
   "outputs": [],
   "source": [
    "best_month = data.groupby('Sale Month')['Profit'].sum()\n",
    "plt.bar(best_month.index, best_month.values)\n",
    "plt.xlabel('Sale Month')\n",
    "plt.ylabel('Profit')"
   ]
  },
  {
   "cell_type": "markdown",
   "metadata": {},
   "source": [
    "The best time to do email marketing is in November."
   ]
  }
 ],
 "metadata": {
  "kernelspec": {
   "display_name": "Python 3",
   "language": "python",
   "name": "python3"
  },
  "language_info": {
   "codemirror_mode": {
    "name": "ipython",
    "version": 3
   },
   "file_extension": ".py",
   "mimetype": "text/x-python",
   "name": "python",
   "nbconvert_exporter": "python",
   "pygments_lexer": "ipython3",
   "version": "3.12.4"
  }
 },
 "nbformat": 4,
 "nbformat_minor": 2
}
